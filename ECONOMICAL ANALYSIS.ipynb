{
 "cells": [
  {
   "cell_type": "code",
   "execution_count": 19,
   "id": "a01b1574",
   "metadata": {},
   "outputs": [],
   "source": [
    "import mysql.connector\n",
    "from mysql.connector import Error\n",
    "import pandas as pd"
   ]
  },
  {
   "cell_type": "code",
   "execution_count": 179,
   "id": "ba86d097",
   "metadata": {
    "scrolled": true
   },
   "outputs": [
    {
     "name": "stdout",
     "output_type": "stream",
     "text": [
      "   CountryName CountryCode                                         SeriesName  \\\n",
      "0  Afghanistan         AFG               Death rate, crude (per 1,000 people)   \n",
      "1  Afghanistan         AFG  Debt service on external debt, public and publ...   \n",
      "2  Afghanistan         AFG           Exports of goods and services (% of GDP)   \n",
      "3  Afghanistan         AFG   Exports of goods and services (BoP, current US$)   \n",
      "4  Afghanistan         AFG  Foreign direct investment, net outflows (% of ...   \n",
      "5  Afghanistan         AFG  Foreign direct investment, net inflows (% of GDP)   \n",
      "6  Afghanistan         AFG  Foreign direct investment, net (BoP, current US$)   \n",
      "7  Afghanistan         AFG  Foreign direct investment, net outflows (BoP, ...   \n",
      "8  Afghanistan         AFG                   GDP per capita growth (annual %)   \n",
      "9  Afghanistan         AFG                       GDP per capita (current US$)   \n",
      "\n",
      "             SeriesCode        YR2013        YR2014        YR2015  \\\n",
      "0        SP.DYN.CDRT.IN         7.478         7.395         7.331   \n",
      "1        DT.TDS.DPPG.CD    11680274.6    21248292.7    27416416.2   \n",
      "2        NE.EXP.GNFS.ZS            ..            ..            ..   \n",
      "3        BX.GSR.GNFS.CD    1383201806    1985366663    1417300546   \n",
      "4  BM.KLT.DINV.WD.GD.ZS    0.00266707     -9.34E-05   0.011304631   \n",
      "5  BX.KLT.DINV.WD.GD.ZS   0.239801183   0.209664794   0.884000459   \n",
      "6        BN.KLT.DINV.CD  -47774027.01  -42994416.21  -166983554.9   \n",
      "7     BM.KLT.DINV.CD.WD   537318.9904  -19153.71072   2163053.088   \n",
      "8     NY.GDP.PCAP.KD.ZG   2.002522145  -0.964803329  -1.666416415   \n",
      "9        NY.GDP.PCAP.CD   638.7331848   626.5129305   566.8811327   \n",
      "\n",
      "         YR2016        YR2017        YR2018       YR2019        YR2020  \\\n",
      "0         7.077         7.027         6.981        6.791         7.113   \n",
      "1    30269882.9    30597878.7    32675060.7   32780041.6    28700402.1   \n",
      "2            ..            ..            ..           ..   10.42081714   \n",
      "3    1136013206    1152896050    1609472021   1515758749    1476305961   \n",
      "4   0.077310687   0.060046188    0.21494058  0.140009705    0.18655347   \n",
      "5   0.516606084   0.274796791   0.661572216  0.124495986   0.064993957   \n",
      "6  -79585268.75     -40273161  -80631404.07  2916492.929   24258330.11   \n",
      "7   14006046.55   11260735.76   38803701.64  26321046.58    37228478.1   \n",
      "8  -0.345802497  -0.253593782  -1.688576593  0.932833389  -5.364665931   \n",
      "9   523.0530121   526.1408013   492.0906323  497.7414293   512.0550982   \n",
      "\n",
      "         YR2021      YR2022  \n",
      "0         7.344        ..\\r  \n",
      "1      19234000  12017000\\r  \n",
      "2    14.3421528        ..\\r  \n",
      "3            ..        ..\\r  \n",
      "4   0.215827015        ..\\r  \n",
      "5   0.144401058        ..\\r  \n",
      "6            ..        ..\\r  \n",
      "7    30790959.9        ..\\r  \n",
      "8  -22.96694199        ..\\r  \n",
      "9   355.7778264        ..\\r  \n"
     ]
    },
    {
     "name": "stderr",
     "output_type": "stream",
     "text": [
      "C:\\Users\\Admin\\AppData\\Local\\Temp\\ipykernel_11884\\3939403189.py:6: UserWarning: pandas only supports SQLAlchemy connectable (engine/connection) or database string URI or sqlite3 DBAPI2 connection. Other DBAPI2 objects are not tested. Please consider using SQLAlchemy.\n",
      "  df = pd.read_sql(query, cnx)\n"
     ]
    }
   ],
   "source": [
    "\n",
    "cnx = mysql.connector.connect(user='root', password='yourpassb', host='localhost', database='mysql')\n",
    "query = \"SELECT * FROM economic_data LIMIT 10;\"\n",
    "df = pd.read_sql(query, cnx)\n",
    "describe=df.describe()\n",
    "print(df)\n",
    "\n"
   ]
  },
  {
   "cell_type": "markdown",
   "id": "7e9cf043",
   "metadata": {},
   "source": [
    "by calculating the possible correlation between death rate, GDP and Unemployment rate it turn out that there is not strong correlation between them"
   ]
  },
  {
   "cell_type": "code",
   "execution_count": 141,
   "id": "34c1ccc5",
   "metadata": {
    "scrolled": true
   },
   "outputs": [
    {
     "name": "stdout",
     "output_type": "stream",
     "text": [
      "                                                    MeanDeathrate,crude(per1,000people)  \\\n",
      "MeanDeathrate,crude(per1,000people)                                            1.000000   \n",
      "MeanGDPpercapita(currentUS$)                                                  -0.079663   \n",
      "MeanUnemployment,total(%oftotallaborforce)(nati...                             0.149047   \n",
      "\n",
      "                                                    MeanGDPpercapita(currentUS$)  \\\n",
      "MeanDeathrate,crude(per1,000people)                                    -0.079663   \n",
      "MeanGDPpercapita(currentUS$)                                            1.000000   \n",
      "MeanUnemployment,total(%oftotallaborforce)(nati...                     -0.138636   \n",
      "\n",
      "                                                    MeanUnemployment,total(%oftotallaborforce)(nationalestimate)  \n",
      "MeanDeathrate,crude(per1,000people)                                                          0.149047             \n",
      "MeanGDPpercapita(currentUS$)                                                                -0.138636             \n",
      "MeanUnemployment,total(%oftotallaborforce)(nati...                                           1.000000             \n"
     ]
    },
    {
     "name": "stderr",
     "output_type": "stream",
     "text": [
      "C:\\Users\\Admin\\AppData\\Local\\Temp\\ipykernel_11884\\2894908654.py:11: UserWarning: pandas only supports SQLAlchemy connectable (engine/connection) or database string URI or sqlite3 DBAPI2 connection. Other DBAPI2 objects are not tested. Please consider using SQLAlchemy.\n",
      "  df = pd.read_sql(query, cnx)\n",
      "C:\\Users\\Admin\\AppData\\Local\\Temp\\ipykernel_11884\\2894908654.py:11: UserWarning: pandas only supports SQLAlchemy connectable (engine/connection) or database string URI or sqlite3 DBAPI2 connection. Other DBAPI2 objects are not tested. Please consider using SQLAlchemy.\n",
      "  df = pd.read_sql(query, cnx)\n",
      "C:\\Users\\Admin\\AppData\\Local\\Temp\\ipykernel_11884\\2894908654.py:11: UserWarning: pandas only supports SQLAlchemy connectable (engine/connection) or database string URI or sqlite3 DBAPI2 connection. Other DBAPI2 objects are not tested. Please consider using SQLAlchemy.\n",
      "  df = pd.read_sql(query, cnx)\n",
      "C:\\Users\\Admin\\AppData\\Local\\Temp\\ipykernel_11884\\2894908654.py:38: FutureWarning: The default value of numeric_only in DataFrame.corr is deprecated. In a future version, it will default to False. Select only valid columns or specify the value of numeric_only to silence this warning.\n",
      "  correlation_matrix = combined_df.corr()\n"
     ]
    }
   ],
   "source": [
    "def fetch_indicator_avg(indicator_name):\n",
    "    query = f\"\"\"\n",
    "    SELECT CountryName, YR2013, YR2014, YR2015, YR2016, YR2017, YR2018, YR2019, YR2020, YR2021, YR2022\n",
    "    FROM economic_data\n",
    "    WHERE SeriesName = '{indicator_name}';\n",
    "    \"\"\"\n",
    "    df = pd.read_sql(query, cnx)\n",
    "    year_columns = ['YR2013', 'YR2014', 'YR2015', 'YR2016', 'YR2017', 'YR2018', 'YR2019', 'YR2020', 'YR2021', 'YR2022']\n",
    "    for col in year_columns:\n",
    "        df[col] = pd.to_numeric(df[col], errors='coerce')\n",
    "    df[f'Mean{indicator_name.replace(\" \", \"\")}'] = df[year_columns].mean(axis=1)\n",
    "    return df[['CountryName', f'Mean{indicator_name.replace(\" \", \"\")}']]\n",
    "\n",
    "# Fetch and calculate average for each indicator\n",
    "death_rate_df = fetch_indicator_avg('Death rate, crude (per 1,000 people)')\n",
    "gdp_per_capita_df = fetch_indicator_avg('GDP per capita (current US$)')\n",
    "unemployment_rate_df = fetch_indicator_avg('Unemployment, total (% of total labor force) (national estimate)')\n",
    "\n",
    "# Merge the dataframes\n",
    "combined_df = death_rate_df.merge(gdp_per_capita_df, on='CountryName').merge(unemployment_rate_df, on='CountryName')\n",
    "\n",
    "\n",
    "# Check for correlation\n",
    "correlation_matrix = combined_df.corr()\n",
    "unemployment_rate_df"
   ]
  },
  {
   "cell_type": "markdown",
   "id": "cf7ba864",
   "metadata": {},
   "source": [
    "Below cell helps us to find country with highest unemployment rate"
   ]
  },
  {
   "cell_type": "code",
   "execution_count": 129,
   "id": "0ffa5ee9",
   "metadata": {
    "scrolled": true
   },
   "outputs": [
    {
     "name": "stdout",
     "output_type": "stream",
     "text": [
      "    CountryName  MaxUnemploymentRate\n",
      "105      Kosovo               35.264\n"
     ]
    },
    {
     "name": "stderr",
     "output_type": "stream",
     "text": [
      "C:\\Users\\Admin\\AppData\\Local\\Temp\\ipykernel_11884\\57231244.py:6: UserWarning: pandas only supports SQLAlchemy connectable (engine/connection) or database string URI or sqlite3 DBAPI2 connection. Other DBAPI2 objects are not tested. Please consider using SQLAlchemy.\n",
      "  df_unemploy = pd.read_sql(query, cnx)\n"
     ]
    }
   ],
   "source": [
    "query = \"\"\"\n",
    "SELECT CountryName, YR2013, YR2014, YR2015, YR2016, YR2017, YR2018, YR2019, YR2020, YR2021, YR2022\n",
    "FROM economic_data\n",
    "WHERE SeriesName = 'Unemployment, total (% of total labor force) (national estimate)';  -- Replace with the actual indicator name for unemployment rate in your dataset\n",
    "\"\"\"\n",
    "df_unemploy = pd.read_sql(query, cnx)\n",
    "\n",
    "\n",
    "year_columns = ['YR2013', 'YR2014', 'YR2015', 'YR2016', 'YR2017', 'YR2018', 'YR2019', 'YR2020', 'YR2021', 'YR2022']\n",
    "for col in year_columns:\n",
    "    df_unemploy[col] = pd.to_numeric(df_unemploy[col], errors='coerce')\n",
    "\n",
    "df_unemploy['MaxUnemploymentRate'] = df_unemploy[year_columns].max(axis=1)\n",
    "\n",
    "# Find the country with the highest maximum unemployment rate\n",
    "country_with_max_unemployment = df_unemploy[df_unemploy['MaxUnemploymentRate'] == df_unemploy['MaxUnemploymentRate'].max()]\n",
    "\n",
    "# Print the result\n",
    "print(country_with_max_unemployment[['CountryName', 'MaxUnemploymentRate']])"
   ]
  },
  {
   "cell_type": "code",
   "execution_count": 180,
   "id": "c04b6e21",
   "metadata": {},
   "outputs": [
    {
     "name": "stdout",
     "output_type": "stream",
     "text": [
      "                                                    AvgInflation,consumerprices(annual%)  \\\n",
      "AvgInflation,consumerprices(annual%)                                            1.000000   \n",
      "AvgPovertyheadcountratioatnationalpovertylines(...                              0.222261   \n",
      "\n",
      "                                                    AvgPovertyheadcountratioatnationalpovertylines(%ofpopulation)  \n",
      "AvgInflation,consumerprices(annual%)                                                         0.222261              \n",
      "AvgPovertyheadcountratioatnationalpovertylines(...                                           1.000000              \n"
     ]
    },
    {
     "name": "stderr",
     "output_type": "stream",
     "text": [
      "C:\\Users\\Admin\\AppData\\Local\\Temp\\ipykernel_11884\\2464665811.py:7: UserWarning: pandas only supports SQLAlchemy connectable (engine/connection) or database string URI or sqlite3 DBAPI2 connection. Other DBAPI2 objects are not tested. Please consider using SQLAlchemy.\n",
      "  df = pd.read_sql(query, cnx)\n",
      "C:\\Users\\Admin\\AppData\\Local\\Temp\\ipykernel_11884\\2464665811.py:7: UserWarning: pandas only supports SQLAlchemy connectable (engine/connection) or database string URI or sqlite3 DBAPI2 connection. Other DBAPI2 objects are not tested. Please consider using SQLAlchemy.\n",
      "  df = pd.read_sql(query, cnx)\n",
      "C:\\Users\\Admin\\AppData\\Local\\Temp\\ipykernel_11884\\2464665811.py:25: FutureWarning: The default value of numeric_only in DataFrame.corr is deprecated. In a future version, it will default to False. Select only valid columns or specify the value of numeric_only to silence this warning.\n",
      "  correlation_matrix = combined_df.corr()\n"
     ]
    }
   ],
   "source": [
    "def fetch_avg_indicator(indicator_name):\n",
    "    query = f\"\"\"\n",
    "    SELECT CountryName, YR2013, YR2014, YR2015, YR2016, YR2017, YR2018, YR2019, YR2020, YR2021, YR2022\n",
    "    FROM economic_data\n",
    "    WHERE SeriesName = '{indicator_name}';\n",
    "    \"\"\"\n",
    "    df = pd.read_sql(query, cnx)\n",
    "    year_columns = ['YR2013', 'YR2014', 'YR2015', 'YR2016', 'YR2017', 'YR2018', 'YR2019', 'YR2020', 'YR2021', 'YR2022']\n",
    "    for col in year_columns:\n",
    "        df[col] = pd.to_numeric(df[col], errors='coerce')\n",
    "    df[f'Avg{indicator_name.replace(\" \", \"\")}'] = df[year_columns].mean(axis=1)\n",
    "    return df[['CountryName', f'Avg{indicator_name.replace(\" \", \"\")}']]\n",
    "\n",
    "# Fetch and calculate average for each indicator\n",
    "avg_inflation_df = fetch_avg_indicator('Inflation, consumer prices (annual %)')\n",
    "avg_poverty_headcount_df = fetch_avg_indicator('Poverty headcount ratio at national poverty lines (% of population)')\n",
    "\n",
    "# Merge the dataframes\n",
    "combined_df = avg_inflation_df.merge(avg_poverty_headcount_df, on='CountryName')\n",
    "\n",
    "# Close the database connection\n",
    "cnx.close()\n",
    "\n",
    "# Check for correlation\n",
    "correlation_matrix = combined_df.corr()\n",
    "print(correlation_matrix)"
   ]
  },
  {
   "cell_type": "markdown",
   "id": "53982f76",
   "metadata": {},
   "source": [
    "The correlation is positive but relatively weak. This suggests that while there might be some degree of association between higher inflation and higher poverty rates, other factors are also likely at play influencing poverty levels"
   ]
  },
  {
   "cell_type": "code",
   "execution_count": 166,
   "id": "b601e40a",
   "metadata": {},
   "outputs": [
    {
     "name": "stdout",
     "output_type": "stream",
     "text": [
      "    CountryName    AvgExports\n",
      "201      Tuvalu  6.133880e+06\n"
     ]
    },
    {
     "name": "stderr",
     "output_type": "stream",
     "text": [
      "C:\\Users\\Admin\\AppData\\Local\\Temp\\ipykernel_11884\\1452330957.py:6: UserWarning: pandas only supports SQLAlchemy connectable (engine/connection) or database string URI or sqlite3 DBAPI2 connection. Other DBAPI2 objects are not tested. Please consider using SQLAlchemy.\n",
      "  df = pd.read_sql(query, cnx)\n"
     ]
    }
   ],
   "source": [
    "query = \"\"\"\n",
    "SELECT CountryName, YR2013, YR2014, YR2015, YR2016, YR2017, YR2018, YR2019, YR2020, YR2021, YR2022\n",
    "FROM economic_data\n",
    "WHERE SeriesName = 'Exports of goods and services (BoP, current US$)';\n",
    "\"\"\"\n",
    "df = pd.read_sql(query, cnx)\n",
    "\n",
    "\n",
    "\n",
    "# Convert the year columns to numeric and handle non-numeric values\n",
    "year_columns = ['YR2013', 'YR2014', 'YR2015', 'YR2016', 'YR2017', 'YR2018', 'YR2019', 'YR2020', 'YR2021', 'YR2022']\n",
    "for col in year_columns:\n",
    "    df[col] = pd.to_numeric(df[col], errors='coerce')\n",
    "\n",
    "# Calculate the average export value for each country\n",
    "df['AvgExports'] = df[year_columns].mean(axis=1)\n",
    "\n",
    "# Find the country with the highest average export value\n",
    "country_with_min_avg_exports = df[df['AvgExports'] == df['AvgExports'].min()]\n",
    "\n",
    "# Print the result\n",
    "print(country_with_min_avg_exports[['CountryName', 'AvgExports']])"
   ]
  },
  {
   "cell_type": "markdown",
   "id": "1f573639",
   "metadata": {},
   "source": [
    "Now that Tuvala has the least exports among all countries. Lets determine whether the country economy is mainly rely on domestic market or export"
   ]
  },
  {
   "cell_type": "code",
   "execution_count": 177,
   "id": "8a0d5b81",
   "metadata": {},
   "outputs": [
    {
     "name": "stdout",
     "output_type": "stream",
     "text": [
      "Average Exports for Tuvalu (2013-2022): 547.4723136558372\n",
      "Average GDP for Tuvalu (2013-2022): 4312.3689445\n",
      "Ratio of Average Exports to GDP for Tuvalu: 0.12691863962568709\n"
     ]
    },
    {
     "name": "stderr",
     "output_type": "stream",
     "text": [
      "C:\\Users\\Admin\\AppData\\Local\\Temp\\ipykernel_11884\\2745276048.py:8: UserWarning: pandas only supports SQLAlchemy connectable (engine/connection) or database string URI or sqlite3 DBAPI2 connection. Other DBAPI2 objects are not tested. Please consider using SQLAlchemy.\n",
      "  df = pd.read_sql(query, cnx)\n",
      "C:\\Users\\Admin\\AppData\\Local\\Temp\\ipykernel_11884\\2745276048.py:8: UserWarning: pandas only supports SQLAlchemy connectable (engine/connection) or database string URI or sqlite3 DBAPI2 connection. Other DBAPI2 objects are not tested. Please consider using SQLAlchemy.\n",
      "  df = pd.read_sql(query, cnx)\n"
     ]
    }
   ],
   "source": [
    "\n",
    "# Function to fetch average indicator value for Tuvalu\n",
    "def fetch_avg_indicator_for_tuvalu(indicator_name):\n",
    "    query = f\"\"\"\n",
    "    SELECT YR2013, YR2014, YR2015, YR2016, YR2017, YR2018, YR2019, YR2020, YR2021, YR2022\n",
    "    FROM economic_data\n",
    "    WHERE SeriesName = '{indicator_name}' AND CountryName = 'Tuvalu';\n",
    "    \"\"\"\n",
    "    df = pd.read_sql(query, cnx)\n",
    "    if df.empty:\n",
    "        return None  # Returns None if there's no data for Tuvalu\n",
    "    year_columns = ['YR2013', 'YR2014', 'YR2015', 'YR2016', 'YR2017', 'YR2018', 'YR2019', 'YR2020', 'YR2021', 'YR2022']\n",
    "    for col in year_columns:\n",
    "        df[col] = pd.to_numeric(df[col], errors='coerce')\n",
    "    return df[year_columns].mean(axis=1).iloc[0]\n",
    "\n",
    "# Fetch average export and GDP for Tuvalu\n",
    "avg_exports = fetch_avg_indicator_for_tuvalu('Exports of goods and services (BoP, current US$)')\n",
    "avg_gdp = fetch_avg_indicator_for_tuvalu('GDP per capita (current US$)')\n",
    "\n",
    "# Close the database connection\n",
    "cnx.close()\n",
    "\n",
    "# Print the results\n",
    "print(f\"Average Exports for Tuvalu (2013-2022): {avg_exports/11204}\")\n",
    "print(f\"Average GDP for Tuvalu (2013-2022): {avg_gdp}\")\n",
    "\n",
    "# Comparing the two values\n",
    "if avg_exports is not None and avg_gdp is not None:\n",
    "    comparison = 547.32 / avg_gdp\n",
    "    print(f\"Ratio of Average Exports to GDP for Tuvalu: {comparison}\")\n",
    "else:\n",
    "    print(\"Insufficient data for comparison.\")\n"
   ]
  },
  {
   "cell_type": "markdown",
   "id": "16ee2c74",
   "metadata": {},
   "source": [
    "comparison of ration of average exports to acerage GDP indicates that the export sector in Tuvalu, on a per capita basis, is relatively small compared to the overall size of its economy per capita. It implies that exports are a contributing but not a dominant part of Tuvalu's economy"
   ]
  },
  {
   "cell_type": "code",
   "execution_count": null,
   "id": "e90cb52f",
   "metadata": {},
   "outputs": [],
   "source": []
  }
 ],
 "metadata": {
  "kernelspec": {
   "display_name": "Python 3 (ipykernel)",
   "language": "python",
   "name": "python3"
  },
  "language_info": {
   "codemirror_mode": {
    "name": "ipython",
    "version": 3
   },
   "file_extension": ".py",
   "mimetype": "text/x-python",
   "name": "python",
   "nbconvert_exporter": "python",
   "pygments_lexer": "ipython3",
   "version": "3.11.0"
  }
 },
 "nbformat": 4,
 "nbformat_minor": 5
}
